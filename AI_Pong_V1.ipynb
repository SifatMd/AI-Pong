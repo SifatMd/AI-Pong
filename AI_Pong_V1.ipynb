{
  "nbformat": 4,
  "nbformat_minor": 0,
  "metadata": {
    "colab": {
      "name": "firstpong.ipynb",
      "provenance": [],
      "collapsed_sections": [],
      "machine_shape": "hm"
    },
    "kernelspec": {
      "name": "python3",
      "display_name": "Python 3"
    },
    "accelerator": "GPU"
  },
  "cells": [
    {
      "cell_type": "code",
      "metadata": {
        "id": "jSHTogCY0jqz",
        "colab_type": "code",
        "outputId": "2de2401d-f54e-4003-f4c4-0e3a501a3478",
        "colab": {
          "base_uri": "https://localhost:8080/",
          "height": 171
        }
      },
      "source": [
        "!pip install gym"
      ],
      "execution_count": 0,
      "outputs": [
        {
          "output_type": "stream",
          "text": [
            "Requirement already satisfied: gym in /usr/local/lib/python3.6/dist-packages (0.15.4)\n",
            "Requirement already satisfied: six in /usr/local/lib/python3.6/dist-packages (from gym) (1.12.0)\n",
            "Requirement already satisfied: pyglet<=1.3.2,>=1.2.0 in /usr/local/lib/python3.6/dist-packages (from gym) (1.3.2)\n",
            "Requirement already satisfied: numpy>=1.10.4 in /usr/local/lib/python3.6/dist-packages (from gym) (1.17.4)\n",
            "Requirement already satisfied: opencv-python in /usr/local/lib/python3.6/dist-packages (from gym) (4.1.2.30)\n",
            "Requirement already satisfied: cloudpickle~=1.2.0 in /usr/local/lib/python3.6/dist-packages (from gym) (1.2.2)\n",
            "Requirement already satisfied: scipy in /usr/local/lib/python3.6/dist-packages (from gym) (1.3.3)\n",
            "Requirement already satisfied: future in /usr/local/lib/python3.6/dist-packages (from pyglet<=1.3.2,>=1.2.0->gym) (0.16.0)\n"
          ],
          "name": "stdout"
        }
      ]
    },
    {
      "cell_type": "code",
      "metadata": {
        "id": "-kKnVtwp0wyJ",
        "colab_type": "code",
        "outputId": "20c81ec2-d0f0-4a03-e79c-ea02abecd419",
        "colab": {
          "base_uri": "https://localhost:8080/",
          "height": 222
        }
      },
      "source": [
        "!pip install \"gym[atari]\""
      ],
      "execution_count": 0,
      "outputs": [
        {
          "output_type": "stream",
          "text": [
            "Requirement already satisfied: gym[atari] in /usr/local/lib/python3.6/dist-packages (0.15.4)\n",
            "Requirement already satisfied: cloudpickle~=1.2.0 in /usr/local/lib/python3.6/dist-packages (from gym[atari]) (1.2.2)\n",
            "Requirement already satisfied: six in /usr/local/lib/python3.6/dist-packages (from gym[atari]) (1.12.0)\n",
            "Requirement already satisfied: pyglet<=1.3.2,>=1.2.0 in /usr/local/lib/python3.6/dist-packages (from gym[atari]) (1.3.2)\n",
            "Requirement already satisfied: opencv-python in /usr/local/lib/python3.6/dist-packages (from gym[atari]) (4.1.2.30)\n",
            "Requirement already satisfied: numpy>=1.10.4 in /usr/local/lib/python3.6/dist-packages (from gym[atari]) (1.17.4)\n",
            "Requirement already satisfied: scipy in /usr/local/lib/python3.6/dist-packages (from gym[atari]) (1.3.3)\n",
            "Requirement already satisfied: atari-py~=0.2.0; extra == \"atari\" in /usr/local/lib/python3.6/dist-packages (from gym[atari]) (0.2.6)\n",
            "Requirement already satisfied: Pillow; extra == \"atari\" in /usr/local/lib/python3.6/dist-packages (from gym[atari]) (4.3.0)\n",
            "Requirement already satisfied: future in /usr/local/lib/python3.6/dist-packages (from pyglet<=1.3.2,>=1.2.0->gym[atari]) (0.16.0)\n",
            "Requirement already satisfied: olefile in /usr/local/lib/python3.6/dist-packages (from Pillow; extra == \"atari\"->gym[atari]) (0.46)\n"
          ],
          "name": "stdout"
        }
      ]
    },
    {
      "cell_type": "markdown",
      "metadata": {
        "id": "DZe-AE0V2nt1",
        "colab_type": "text"
      },
      "source": [
        "# Coding"
      ]
    },
    {
      "cell_type": "code",
      "metadata": {
        "id": "qVO7XQkR4ia4",
        "colab_type": "code",
        "colab": {}
      },
      "source": [
        "import gym\n",
        "import numpy as np"
      ],
      "execution_count": 0,
      "outputs": []
    },
    {
      "cell_type": "code",
      "metadata": {
        "id": "fKdUGvxg3Kx_",
        "colab_type": "code",
        "colab": {}
      },
      "source": [
        "def downsample(image):\n",
        "  return image[::2, ::2, :]\n",
        "\n",
        "def remove_color(image):\n",
        "  return image[:,:,0]\n",
        "\n",
        "def remove_background(image):\n",
        "  image[image==144] = 0\n",
        "  image[image==109] = 0\n",
        "  return image"
      ],
      "execution_count": 0,
      "outputs": []
    },
    {
      "cell_type": "code",
      "metadata": {
        "id": "MIPAJZb-7Tga",
        "colab_type": "code",
        "colab": {}
      },
      "source": [
        "def choose_action(probability):\n",
        "  random_value=np.random.uniform()\n",
        "  if random_value < probability:\n",
        "    return 2\n",
        "  else:\n",
        "    return 3"
      ],
      "execution_count": 0,
      "outputs": []
    },
    {
      "cell_type": "code",
      "metadata": {
        "id": "HeKgOt-C7ijt",
        "colab_type": "code",
        "colab": {}
      },
      "source": [
        "def sigmoid(x):\n",
        "  return 1.0/(1.0 + np.exp(-x))\n",
        "\n",
        "def relu(vector):\n",
        "  vector[vector < 0] = 0 \n",
        "  return vector"
      ],
      "execution_count": 0,
      "outputs": []
    },
    {
      "cell_type": "code",
      "metadata": {
        "id": "1SdV-5WJ4Fpe",
        "colab_type": "code",
        "colab": {}
      },
      "source": [
        "def apply_neural_nets(observation_matrix, weights):\n",
        "  hidden_layer_values=np.dot(weights['1'],observation_matrix)\n",
        "  hidden_layer_values=relu(hidden_layer_values)\n",
        "  output_layer_values=np.dot(hidden_layer_values,weights['2'])\n",
        "  output_layer_values=sigmoid(output_layer_values)\n",
        "  return hidden_layer_values,output_layer_values"
      ],
      "execution_count": 0,
      "outputs": []
    },
    {
      "cell_type": "code",
      "metadata": {
        "id": "5FdoYpTj1lMI",
        "colab_type": "code",
        "colab": {}
      },
      "source": [
        "def preprocess_observations(input_observation, prev_processed_observation, input_dimensions):\n",
        "  processed_observation=input_observation[35:195] \n",
        "  processed_observation=downsample(processed_observation)\n",
        "  processed_observation=remove_color(processed_observation)\n",
        "  processed_observation=remove_background(processed_observation)\n",
        "  processed_observation[processed_observation!=0] = 1\n",
        "\n",
        "  processed_observation=processed_observation.astype(np.float).ravel()\n",
        "\n",
        "  if prev_processed_observation is not None:\n",
        "    input_observation=processed_observation-prev_processed_observation\n",
        "  else:\n",
        "    input_observation=np.zeros(input_dimensions)\n",
        "  prev_processed_observations = processed_observation\n",
        "  return input_observation, prev_processed_observations"
      ],
      "execution_count": 0,
      "outputs": []
    },
    {
      "cell_type": "code",
      "metadata": {
        "id": "jJsMad_32u-l",
        "colab_type": "code",
        "colab": {}
      },
      "source": [
        "def compute_gradient(gradient_log_p,hidden_layer_values,observation_values,weights):\n",
        "  delta_L = gradient_log_p\n",
        "  dC_dw2 = np.dot(hidden_layer_values.T,delta_L).ravel()\n",
        "  delta_l2 = np.outer(delta_L,weights['2'])\n",
        "  delta_l2 = relu(delta_l2)\n",
        "  dC_dw1 = np.dot(delta_l2.T, observation_values)\n",
        "  return {\n",
        "      '1':dC_dw1,\n",
        "      '2':dC_dw2\n",
        "  }\n"
      ],
      "execution_count": 0,
      "outputs": []
    },
    {
      "cell_type": "code",
      "metadata": {
        "id": "9e9m4dRR7YB_",
        "colab_type": "code",
        "colab": {}
      },
      "source": [
        "def update_weights(weights,expectation_g_squared,g_dict,decay_rate,learning_rate):\n",
        "  epsilon = 1e-5\n",
        "  for layer_name in weights.keys():\n",
        "    g = g_dict[layer_name]\n",
        "    expectation_g_squared[layer_name]=decay_rate*expectation_g_squared[layer_name]+(1-decay_rate)* g**2\n",
        "    weights[layer_name]+= (learning_rate*g)/(np.sqrt(expectation_g_squared[layer_name]+epsilon))\n",
        "    g_dict[layer_name]=np.zeros_like(weights[layer_name]) "
      ],
      "execution_count": 0,
      "outputs": []
    },
    {
      "cell_type": "code",
      "metadata": {
        "id": "OlpKhMDf-w9K",
        "colab_type": "code",
        "colab": {}
      },
      "source": [
        "def discount_rewards(rewards,gamma):\n",
        "  discounted_rewards = np.zeros_like(rewards)\n",
        "  running_add=0\n",
        "  for t in reversed(xrange(0,rewards.size)):\n",
        "    if rewards[t]!=0:\n",
        "      running_add=0\n",
        "    running_add=running_add * gamma + rewards[t]\n",
        "    discounted_rewards[t] = running_add\n",
        "  return discounted_rewards"
      ],
      "execution_count": 0,
      "outputs": []
    },
    {
      "cell_type": "code",
      "metadata": {
        "id": "1GvrLmTI9_jz",
        "colab_type": "code",
        "colab": {}
      },
      "source": [
        "def discount_with_rewards(gradient_log_p,episode_rewards,gamma):\n",
        "  discounted_episode_rewards=discount_rewards(episode_rewards,gamma)\n",
        "\n",
        "  discounted_episode_rewards -= np.mean(discounted_episode_rewards)\n",
        "  discounted_episode_rewards /= np.std(discounted_episode_rewards)\n",
        "  return gradient_log_p*discounted_episode_rewards"
      ],
      "execution_count": 0,
      "outputs": []
    },
    {
      "cell_type": "code",
      "metadata": {
        "id": "BKbu06FK1jo2",
        "colab_type": "code",
        "colab": {}
      },
      "source": [
        "def main():\n",
        "  env = gym.make(\"Pong-v0\")\n",
        "  observation = env.reset() \n",
        "\n",
        "  #hyperparameters\n",
        "  batch_size=10\n",
        "  gamma=0.99\n",
        "  decay_rate=0.99\n",
        "  num_hidden_layer_neurons = 200\n",
        "  input_dimensions=80*80\n",
        "  learning_rate=1e-4\n",
        "\n",
        "  episode_number=0\n",
        "  reward_sum=0\n",
        "  running_reward=None\n",
        "  prev_processed_observations=None\n",
        "\n",
        "  weights={\n",
        "      '1':np.random.randn(num_hidden_layer_neurons, input_dimensions)/np.sqrt(input_dimensions),\n",
        "      '2':np.random.randn(num_hidden_layer_neurons) / np.sqrt(num_hidden_layer_neurons)\n",
        "  }\n",
        "\n",
        "  expectation_g_squared = {}\n",
        "  g_dict = {}\n",
        "  for layer_name in weights.keys():\n",
        "    expectation_g_squared[layer_name] = np.zeros_like(weights[layer_name])\n",
        "    g_dict[layer_name] = np.zeros_like(weights[layer_name])\n",
        "\n",
        "  episode_hidden_layer_values, episode_observations = [], []\n",
        "  episode_gradient_log_ps, episode_rewards = [], []\n",
        "\n",
        "  i = 0\n",
        "  while(i<1e10):\n",
        "    env.render()\n",
        "    processed_observations, prev_processed_observations = preprocess_observations(observation, prev_processed_observations, input_dimensions)\n",
        "    \n",
        "    hidden_layer_values,up_probability=apply_neural_nets(processed_observations,weights)\n",
        "    episode_observations.append(processed_observations)\n",
        "    episode_hidden_layer_values.append(hidden_layer_values)\n",
        "\n",
        "    action = choose_action(up_probability)\n",
        "    observation,reward,done,info = env.step(action)\n",
        "    reward_sum += reward\n",
        "    episode_rewards.append(reward)\n",
        "\n",
        "    fake_label = 1 if action==2 else 0\n",
        "    loss_function_gradient=fake_label-up_probability\n",
        "    episode_gradient_log_ps.append(loss_function_gradient)\n",
        "\n",
        "    if done:\n",
        "      episode_number += 1\n",
        "\n",
        "      episode_hidden_layer_values = np.vstack(episode_hidden_layer_values)\n",
        "      episode_observations = np.vstack(episode_observations)\n",
        "      episode_gradient_log_ps = np.vstack(episode_gradient_log_ps)\n",
        "      episode_rewards = np.vstack(episode_rewards)\n",
        "\n",
        "      episode_gradient_log_ps_discounted=discount_with_rewards(episode_gradient_log_ps,episode_rewards,gamma)\n",
        "      gradient = compute_gradient(episode_gradient_log_ps_discounted,\n",
        "                                  episode_hidden_layer_values,\n",
        "                                  episode_observations,weights)\n",
        "      \n",
        "      for layer_name in gradient:\n",
        "        g_dict[layer_name] += gradient[layer_name]\n",
        "\n",
        "      if episode_number % batch_size == 0:\n",
        "        update_weights(weights,expectation_g_squared,g_dict,decay_rate,learning_rate)\n",
        "\n",
        "      episode_hidden_layer_values,episode_observations,episode_gradient_log_ps,episode_rewards=[],[],[],[]\n",
        "      observation=env.reset()\n",
        "      running_reward=reward_sum if running_reward is None else running_reward*0.99 + reward_sum*0.01\n",
        "      print('resetting env. episode reward total was %f. running mean: %f' % (reward_sum, running_reward))\n",
        "      reward_sum=0\n",
        "      prev_processed_observations=None\n",
        "\n"
      ],
      "execution_count": 0,
      "outputs": []
    },
    {
      "cell_type": "code",
      "metadata": {
        "id": "Tukkm-016Z7D",
        "colab_type": "code",
        "colab": {}
      },
      "source": [
        "main()"
      ],
      "execution_count": 0,
      "outputs": []
    },
    {
      "cell_type": "code",
      "metadata": {
        "id": "sL_jXbIS8bbq",
        "colab_type": "code",
        "colab": {}
      },
      "source": [
        ""
      ],
      "execution_count": 0,
      "outputs": []
    }
  ]
}